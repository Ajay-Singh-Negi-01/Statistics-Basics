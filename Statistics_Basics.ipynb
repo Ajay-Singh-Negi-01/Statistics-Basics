{
  "nbformat": 4,
  "nbformat_minor": 0,
  "metadata": {
    "colab": {
      "provenance": []
    },
    "kernelspec": {
      "name": "python3",
      "display_name": "Python 3"
    },
    "language_info": {
      "name": "python"
    }
  },
  "cells": [
    {
      "cell_type": "markdown",
      "source": [
        "#Statistics Basics| Assignment        \n",
        "\n",
        "\n",
        "1. What is the difference between descriptive statistics and inferential\n",
        "statistics? Explain with examples.        \n",
        "  - In statistics, data analysis can broadly be divided into descriptive statistics and inferential statistics. While both are used to analyze and interpret data, they serve different purposes.     \n",
        "  Descrptive Statistics:     \n",
        "  . Definition : Descriptive statistics involves methods of organizing, summarizing, and presenting data in an informative way. It simply describes the main fetures of a dataset without drawing conclusions beyond the data.     \n",
        "  . Purpose : To provide a clear and concise summary of data.      \n",
        "  . Techniques Used : Measures of central tendency - Mean, Median, Mode      \n",
        "  Measures of dispersion - Range, Variance, Standard Deviation     \n",
        "  Data visualization - Graphs, Charts, Tables    \n",
        "  Example : Suppose a teacher records the marks of 50 students in a class.    \n",
        "  The average score(mean) = 68      \n",
        "  The highest score = 95      \n",
        "  The lowest score = 32      \n",
        "  A histogram is created to show the distribution of marks.      \n",
        "  These summaries and charts describe the dataset, but they don't allow us to make predictions or conclusions about other students outside this group.                        \n",
        "  Inferential Statistics :         \n",
        "  . Definition : Inferential statistics ivolves methods of drawing conclusions, making predictions, or testing hypotheses about a population based on data collected from a sample.     \n",
        "  . Purpose : To generalize findings from a sample to a larger population and to measure the reliability of those consclusions.      \n",
        "  . Techniques Used :  Hypothesis testing       \n",
        "  Confidence intervals       \n",
        "  Regression analysis      \n",
        "  ANOVA,Chi-square tests .       \n",
        "  Example : A researcher wants to know the average height of all college students in a city.        \n",
        "  Instead of measuring every student (the population), the researcher selects a sample of 200 students.     \n",
        "  the sample mean height is found to be 167 cm.     \n",
        "  Using inferential statistics, the reasearcher estimates the population mean height with a 95% confidence interval of [165 cm , 169 cm].      \n",
        "  Here ,the researcher is making an inference about the entire population from the sample data.       \n",
        "  Key Difference :      \n",
        "  Descriptive statistics : descrives what the data shows.      \n",
        "  Inferential statistics : makes predictions or generalizations beyond the data.     \n",
        "  Descriptive statistics provides a snapshot of the data at hand, while inferential statistics uses that data to make broader generalizations or test assumptions about a larger group. Both are essential tools in statistical analysis.     \n",
        "\n"
      ],
      "metadata": {
        "id": "sPdcFvipjpIt"
      }
    },
    {
      "cell_type": "markdown",
      "source": [
        "2. What is sampling in statistics? Explain the differences between random\n",
        "and stratified sampling.       \n",
        "  - Sampling in Statistics :          \n",
        "  . Definition : Sampling is the process of selecting a subset of individuals or items (sample) from a larger group population) in order to collect data and draw conclusions about the population.        \n",
        "  . Purpose : Since studying the entire population is often time-consuming, costly, or impractical, sampling provides a practical way to conduct research.     \n",
        "  . Key Point : A well-chosen sample should represent the population accurately to avoid bias.      \n",
        "  . Example : Suppose a company wants to know the satisfaction level of its 10000 customers. Instead of asking everyone, they may select 1000 customers as a sample and use their responses to estimate the overall satisfaction level.         \n",
        "  Random Sampling :       \n",
        "  . Definition : Random sampling is a method in which every individual in the population has an equal chance of being selected.       \n",
        "  . Purpose : To minimize selection bias and ensure the sample is representative.     \n",
        "  . How it works : Random numbers, lottery methods, or computer-generated selections are used.     \n",
        "  . Example : A teacher wants to choose 10 students out of 100 for a survey. She assigns a number to each student and randomly selects 10 numbers using a lottery draw.    \n",
        "  Stratified Sampling :      \n",
        "  . Definition : Stratified sampling is a method where the population is divided into distinct subgroups (strata) based on specific characteristics, and then samples are draw from each subgroup proportionally or equally.     \n",
        "  . Purpose : To ensure that all subgroups are properly represented in the sample.     \n",
        "  . How it works : First, divide the population into strata (gender, age, income groups) then select random samples from each group.      \n",
        "  Example : In a collage of 1000 students where 600 are male and 400 are female, the researcher wants a smaple of 100. Using stratified sampling.      \n",
        "  60 males (from male stratum)       \n",
        "  40 Females (from female stratum)        \n",
        "  This ensures both genders are proportionally represented.      \n",
        "  Sampling is the backbone of statistical research. Random sampling ensures fairness in selection, while stratified sampling ensures proportional representation of different groups in the population.     \n"
      ],
      "metadata": {
        "id": "u3NwmUvOjz5C"
      }
    },
    {
      "cell_type": "markdown",
      "source": [
        "3. Define mean, median, and mode. Explain why these measures of central\n",
        "tendency are important.      \n",
        "  - Mean (Arithmetic Average) :       \n",
        "  The Mean is the sum of all values is a dataset divided by the total number of values.     \n",
        " Mean = Sum of all observations / Number of observations       \n",
        " Example : For the data 2,4,6,8,10:     \n",
        " Mean = (2+4+6+8+10)/5 = 6      \n",
        " Meadian :      \n",
        " The median is the middle value of a dataset when the values are arranged in ascending or descending order.     \n",
        " . If the number of observations is odd - middle value.      \n",
        " . If the number is even - average of the two middle values.      \n",
        " Example : For 2,4,6,8,10 the median is 6.     \n",
        " for 2,4,6,8 the median is 4+5/2 = 5.      \n",
        " Mode :       \n",
        " The mode is the value that occurs most frequently in the dataset.      \n",
        " . A dataset may have no mode, one mode (unimodal), or multiple modes (bimodal/multimodal).       \n",
        " Example : For 2,4,4,6,8 the mode is 4.      \n",
        " Importance of Mean, Median, and Mode :     \n",
        " These are known as measures of central tendency, and they help summarize large amounts of data into a single representative value.      \n",
        " . Mean is useful for understanding the overall average ( average income, test scores).          \n",
        " . Median is important when the data contains outliers or skewed, as it is not affected by extreme values (median house prices).      \n",
        " . Mode is valuable when analyzing categorical data or identifying the most common occurrence(most frequently purchased product).    \n",
        " Together, these measures provide different perspectives on the \"center\" of the data, making analysis more accurate and meaningful.  \n"
      ],
      "metadata": {
        "id": "k_Ala0Pj1jqu"
      }
    },
    {
      "cell_type": "markdown",
      "source": [
        "4. Explain skewness and kurtosis. What does a positive skew imply about the\n",
        "data?        \n",
        "  - Skewness :       \n",
        "  Skewness measures the asymmetry of a probability distribution.     \n",
        "  . If data is symmetrical, skewness = 0(like a perfect normal distribution).      \n",
        "  . If data is positively skewed (right-skewed) - the right tail (larger values) is longer, and most data values lie on the left.       \n",
        "  . If data is negatively skewed (left-skewed)- the left tail (smaller values) is longer, and most data values lie on the right.         \n",
        "  Example :     \n",
        "  . Positive skew : Income distribution (most people earn low-to-moderate, few earn very high).     \n",
        "  . Negative skew : Age at retirement (most people retire around 60-65, few retire much earlier).      \n",
        "  Kurtosis :        \n",
        "  Kurtosis measures the \"tailedness\" of the distribution, how heavy or light the tails are compared to a normal distribution.      \n",
        "  . Mesokurtic (kurtosis ~3): Normal distribution.       \n",
        "  . Leptokurtic (kurtosis > 3): Heavy tails, more outliers.     \n",
        "  . Platykurtic (kurtosis < 3): Light tails, fewer outliers.    \n",
        "  Example :     \n",
        "  . Leptokurtic: Stock market returns (high chance of extreme gains or losses).         \n",
        "  . Platykurtic : Exam scores when most students score around the average.     \n",
        "  Positive Skew Imply :    \n",
        "  . A positive skew (right skew) means:   \n",
        "  . The tail on the right side is longer than the left.    \n",
        "  . Most of the values ore concentrated on the left side of the distribution.     \n",
        "  . The mean> median > mode.      \n",
        "  . There are a few very large values pulling the mean higher.    \n",
        "  Real Example : Incomes in a country - magority earn modest incomes, but few billionaires push the mean upward.      \n",
        "\n"
      ],
      "metadata": {
        "id": "SjNIXSGONDhG"
      }
    },
    {
      "cell_type": "markdown",
      "source": [
        "5.  Implement a Python program to compute the mean, median, and mode of\n",
        "a given list of numbers.\n",
        "numbers = [12, 15, 12, 18, 19, 12, 20, 22, 19, 19, 24, 24, 24, 26, 28]       \n",
        "  - Mean(average): (sum of numbers)/(Count) = 294/15 = 19.6         \n",
        "  Median : Middle value when sorted = 19       \n",
        "  Mode : Most frequent value = 12 (appesrs 3 times)    \n",
        "  \n"
      ],
      "metadata": {
        "id": "W2CY75DVRA2v"
      }
    },
    {
      "cell_type": "code",
      "execution_count": 2,
      "metadata": {
        "id": "mjGLoozvjn7o",
        "colab": {
          "base_uri": "https://localhost:8080/"
        },
        "outputId": "8f042699-8d3c-4838-a04a-0a4b4eeae976"
      },
      "outputs": [
        {
          "output_type": "stream",
          "name": "stdout",
          "text": [
            "Numbers [12, 15, 12, 18, 19, 12, 20, 22, 19, 19, 24, 24, 24, 26, 28]\n",
            "Mean: 19.6\n",
            "Median: 19\n",
            "Mode: 12\n"
          ]
        }
      ],
      "source": [
        "import statistics as stats\n",
        "\n",
        "numbers  = [12,15, 12, 18, 19, 12, 20, 22, 19, 19, 24, 24, 24, 26, 28]\n",
        "\n",
        "mean_value = stats.mean(numbers)\n",
        "median_value = stats.median(numbers)\n",
        "mode_value = stats.mode(numbers)\n",
        "\n",
        "print(\"Numbers\", numbers)\n",
        "print(\"Mean:\", mean_value)\n",
        "print(\"Median:\", median_value)\n",
        "print(\"Mode:\", mode_value)"
      ]
    },
    {
      "cell_type": "markdown",
      "source": [
        "6. Compute the covariance and correlation coefficient between the following\n",
        "two datasets provided as lists in Python:         \n",
        "list_x = [10, 20, 30, 40, 50]        \n",
        "list_y = [15, 25, 35, 45, 60]        \n",
        "  -\n"
      ],
      "metadata": {
        "id": "OShCaRb_WlYx"
      }
    },
    {
      "cell_type": "code",
      "source": [
        "import numpy as np\n",
        "\n",
        "list_x = [10, 20, 30, 40, 50]\n",
        "list_y = [15, 25, 35, 45, 60]\n",
        "\n",
        "x = np.array(list_x)\n",
        "y = np.array(list_y)\n",
        "\n",
        "mean_x = np.mean(x)\n",
        "mean_y = np.mean(y)\n",
        "\n",
        "cov_xy = np.sum((x - mean_x) * (y - mean_y)) / (len(x) -1)\\\n",
        "\n",
        "corr_xy = np.corrcoef(x,y)[0,1]\n",
        "\n",
        "print(\"List X:\", list_x)\n",
        "print(\"List Y:\", list_y)\n",
        "print(\"Covariance:\", cov_xy)\n",
        "print(\"Correlation Coefficient:\", corr_xy)"
      ],
      "metadata": {
        "colab": {
          "base_uri": "https://localhost:8080/"
        },
        "id": "ABHGlxOLXCI7",
        "outputId": "72c8f826-b86d-44f0-a406-97a5752cc07e"
      },
      "execution_count": 6,
      "outputs": [
        {
          "output_type": "stream",
          "name": "stdout",
          "text": [
            "List X: [10, 20, 30, 40, 50]\n",
            "List Y: [15, 25, 35, 45, 60]\n",
            "Covariance: 275.0\n",
            "Correlation Coefficient: 0.995893206467704\n"
          ]
        }
      ]
    },
    {
      "cell_type": "markdown",
      "source": [
        "7.  Write a Python script to draw a boxplot for the following numeric list and\n",
        "identify its outliers. Explain the result:      \n",
        "data = [12, 14, 14, 15, 18, 19, 19, 21, 22, 22, 23, 23, 24, 26, 29, 35]"
      ],
      "metadata": {
        "id": "C4Gv2EsgX92R"
      }
    },
    {
      "cell_type": "code",
      "source": [
        "import matplotlib.pyplot as plt\n",
        "import numpy as np\n",
        "\n",
        "data = [12, 14, 14, 15, 18, 19, 19, 21, 22, 22, 23, 23, 24, 26, 29, 35]\n",
        "\n",
        "plt.boxplot(data, vert = False, patch_artist=True, boxprops= dict(facecolor= \"lightblue\"))\n",
        "plt.title(\"Boxplot of Data\")\n",
        "plt.xlabel(\"Value\")\n",
        "plt.show()\n",
        "\n",
        "Q1 = np.percentile(data, 25)\n",
        "Q3 = np.percentile(data, 75)\n",
        "\n",
        "IQR = Q3 - Q1\n",
        "\n",
        "lower_bound = Q1 - 1.5 * IQR\n",
        "upper_bound = Q3 + 1.5 * IQR\n",
        "\n",
        "outliers = [x for x in data if x <lower_bound or x > upper_bound]\n",
        "\n",
        "print(\"Q1 (25th percentile):\",Q1)\n",
        "print(\"Q3 (75th percentile):\", Q3)\n",
        "print(\"IQR:\",IQR)\n",
        "print(\"Lower Bound:\", lower_bound)\n",
        "print(\"Upper Bound:\", upper_bound)\n",
        "print(\"Outliers:\", outliers)"
      ],
      "metadata": {
        "colab": {
          "base_uri": "https://localhost:8080/",
          "height": 576
        },
        "id": "P8NnmXXUYacD",
        "outputId": "a98c6a00-7dc3-4f82-b01e-fc82293b4cf5"
      },
      "execution_count": 12,
      "outputs": [
        {
          "output_type": "display_data",
          "data": {
            "text/plain": [
              "<Figure size 640x480 with 1 Axes>"
            ],
            "image/png": "[encoded data removed]"
          },
          "metadata": {}
        },
        {
          "output_type": "stream",
          "name": "stdout",
          "text": [
            "Q1 (25th percentile): 17.25\n",
            "Q3 (75th percentile): 23.25\n",
            "IQR: 6.0\n",
            "Lower Bound: 8.25\n",
            "Upper Bound: 32.25\n",
            "Outliers: [35]\n"
          ]
        }
      ]
    },
    {
      "cell_type": "markdown",
      "source": [
        "8. You are working as a data analyst in an e-commerce company. The\n",
        "marketing team wants to know if there is a relationship between advertising spend and\n",
        "daily sales.        \n",
        "● Explain how you would use covariance and correlation to explore this\n",
        "relationship.       \n",
        "● Write Python code to compute the correlation between the two lists:         \n",
        "advertising_spend = [200, 250, 300, 400, 500]       \n",
        "daily_sales = [2200, 2450, 2750, 3200, 4000]        \n",
        "  - Covariance :        \n",
        "  . Tells us the direction of the relationship between two variables.      \n",
        "  . Positive covariance - when advertising spend increases, sales also tend to increase.     \n",
        "  . Negative covariance - when advertising spend increases, sales tend to decrease.     \n",
        "  . Problem : The value is not standardized, so it's hard to interpret the strength.      \n",
        "  Correlation :     \n",
        "  . A strandardized version of covariance.     \n",
        "  . Values range between -1 and 1.      \n",
        "  +1 - Perfect positive relationship.     \n",
        "  -1 - Perfect nagative relationship.     \n",
        "  0 - No linear relationship.    \n",
        "  . Easier to interpret than convariance.    \n",
        "  In business terms, we'd first check covariance to see direction, and then correlation to measure strength.     \n",
        "  Interpretation :      \n",
        "  . The covariance (77500) is large and positive - suggests advertising spend and sales move in the same direction.    \n",
        "  . The correlation (0.997) is very close to +1 - indicates a very strong positive linear relationship.     \n",
        "  Business insight : As advertising spend increases, daily sales increase significantly.    \n",
        "  This shows that ivesting in ads is highly effective in boosting sales for this dataset.    \n",
        "  "
      ],
      "metadata": {
        "id": "VvO3hVn8aNNF"
      }
    },
    {
      "cell_type": "code",
      "source": [
        "import numpy as np\n",
        "\n",
        "# Given data\n",
        "advertising_spend = [200, 250, 300, 400, 500]\n",
        "daily_sales = [2200, 2450, 2750, 3200, 4000]\n",
        "\n",
        "# Covariance matrix\n",
        "cov_matrix = np.cov(advertising_spend, daily_sales, ddof=0)\n",
        "covariance = cov_matrix[0, 1]\n",
        "\n",
        "# Correlation coefficient\n",
        "correlation = np.corrcoef(advertising_spend, daily_sales)[0, 1]\n",
        "\n",
        "print(\"Covariance:\", covariance)\n",
        "print(\"Correlation Coefficient:\", correlation)\n"
      ],
      "metadata": {
        "colab": {
          "base_uri": "https://localhost:8080/"
        },
        "id": "EwMcoqYJVAYL",
        "outputId": "b80fc7fe-bd8f-443f-94f3-94dd9a1cd0fe"
      },
      "execution_count": 5,
      "outputs": [
        {
          "output_type": "stream",
          "name": "stdout",
          "text": [
            "Covariance: 67900.0\n",
            "Correlation Coefficient: 0.9935824101653329\n"
          ]
        }
      ]
    },
    {
      "cell_type": "markdown",
      "source": [
        "9. Your team has collected customer satisfaction survey data on a scale of\n",
        "1-10 and wants to understand its distribution before launching a new product.          \n",
        "● Explain which summary statistics and visualizations (e.g. mean, standard\n",
        "deviation, histogram) you’d use.         \n",
        "● Write Python code to create a histogram using Matplotlib for the survey data:         \n",
        "survey_scores = [7, 8, 5, 9, 6, 7, 8, 9, 10, 4, 7, 6, 9, 8, 7]        \n",
        "  - When analyzing customer satisfaction survey data (scale1-10), we want to know the center, spread, and shape of the distribution.    \n",
        "  Summary Statistics :     \n",
        "  . Mean (average score) : Represents overall customer satisfaction.     \n",
        "  Median (middle score) : Useful if there are outliers.        \n",
        "  . Mode (most common score) : Shows the most frequent rating.     \n",
        "  . Standard Deviation (SD) : Measures how spread out the ratings are.     \n",
        "  . Range (min & max) : Indicates overall satisfaction spread.     \n",
        "  Visualizations :       \n",
        "  . Histogram : To see the frequency distribution (how many customers gave which ratings).     \n",
        "  . Boxplot : to detect outliers and check the spread.    \n",
        "  . Bar Chart of frequencies : To compare spcific rating counts.    \n",
        "  . The histogram will display how customer ratings are distributed.    \n",
        "  . If most scores are between 7-9, it suggests strong satisfaction.    \n",
        "  . A wider spread with low scores (like 4 to 5) would highlight some dissatisfied customers.     \n"
      ],
      "metadata": {
        "id": "4DpanwoPdJPG"
      }
    },
    {
      "cell_type": "code",
      "source": [
        "import matplotlib.pyplot as plt\n",
        "\n",
        "survey_scores = [ 7,8, 5, 9, 6, 7, 8, 9, 10, 4, 7, 6, 9, 8, 7]\n",
        "\n",
        "plt.hist(survey_scores, bins = 6, edgecolor = \"black\", alpha = 0.7)\n",
        "\n",
        "plt.xlabel(\"Satisfaction Score (1-10)\")\n",
        "plt.ylabel (\"Frequency\")\n",
        "plt.title (\"Customer Satisfaction Sruvey Dstribution\")\n",
        "plt.show()\n",
        ""
      ],
      "metadata": {
        "colab": {
          "base_uri": "https://localhost:8080/",
          "height": 472
        },
        "id": "_7M7PoKSfoI2",
        "outputId": "72575dee-d101-46f2-ddce-2ab75e3b1bb5"
      },
      "execution_count": 6,
      "outputs": [
        {
          "output_type": "display_data",
          "data": {
            "text/plain": [
              "<Figure size 640x480 with 1 Axes>"
            ],
            "image/png": "[encoded data removed]"
          },
          "metadata": {}
        }
      ]
    }
  ]
}